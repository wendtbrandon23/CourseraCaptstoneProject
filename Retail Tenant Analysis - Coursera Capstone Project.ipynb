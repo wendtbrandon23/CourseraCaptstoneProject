{
    "cells": [
        {
            "cell_type": "markdown",
            "metadata": {
                "collapsed": true
            },
            "source": "# Introduction/Business Problem\n\n"
        },
        {
            "cell_type": "markdown",
            "metadata": {},
            "source": "A prominent real estate owner and operator is looking to identify potential businesses to occupy retail space that it owns in Manhattan, NY. The company, Retail Real Estate, is looking to determine which businesses are the most common by neighborhood in Manhattan. The business is hoping to identify which tenants it should target for each neighborhood and shorten the time it takes to lease the vacant space. "
        },
        {
            "cell_type": "markdown",
            "metadata": {},
            "source": "# Data"
        },
        {
            "cell_type": "markdown",
            "metadata": {},
            "source": "The data we will be using for this project is FourSquare API data to determine which venues are the most popular by neighborhood in Manhattan. We will first be acquiring all the neighborhoods in New York City. Then we will refine the list to neighborhoods in Manhattan. Once we define all the neighborhoods in Manhattan, we will begin to look for top venues by neighborhood. "
        },
        {
            "cell_type": "markdown",
            "metadata": {},
            "source": "# Analysis"
        },
        {
            "cell_type": "code",
            "execution_count": null,
            "metadata": {},
            "outputs": [],
            "source": ""
        }
    ],
    "metadata": {
        "kernelspec": {
            "display_name": "Python 3.6",
            "language": "python",
            "name": "python3"
        },
        "language_info": {
            "codemirror_mode": {
                "name": "ipython",
                "version": 3
            },
            "file_extension": ".py",
            "mimetype": "text/x-python",
            "name": "python",
            "nbconvert_exporter": "python",
            "pygments_lexer": "ipython3",
            "version": "3.6.9"
        }
    },
    "nbformat": 4,
    "nbformat_minor": 1
}